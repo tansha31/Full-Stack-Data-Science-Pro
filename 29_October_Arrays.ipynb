{
 "cells": [
  {
   "cell_type": "markdown",
   "id": "303b04c5",
   "metadata": {},
   "source": [
    "## Q1. Given an array, check if it contains any duplicates or not"
   ]
  },
  {
   "cell_type": "code",
   "execution_count": 1,
   "id": "48585155",
   "metadata": {},
   "outputs": [
    {
     "name": "stdout",
     "output_type": "stream",
     "text": [
      "True\n"
     ]
    }
   ],
   "source": [
    "def contains_duplicates(arr):\n",
    "    # dict to maintain count of each element\n",
    "    count = dict()\n",
    "\n",
    "    for i in arr:\n",
    "        if i in count:\n",
    "            count[i] += 1\n",
    "        else:\n",
    "            count[i] = 1\n",
    "\n",
    "    for i in count:\n",
    "        # return True if count of any element > 1\n",
    "        if count[i] > 1:\n",
    "            return True\n",
    "\n",
    "    return False\n",
    "\n",
    "\n",
    "# driver code\n",
    "arr = [1, 2, 4, 2, 5, 9]\n",
    "print(contains_duplicates(arr))"
   ]
  },
  {
   "cell_type": "markdown",
   "id": "a9ab957d",
   "metadata": {},
   "source": [
    "## Q2. Given an array and an integer k, rotate the array to the right by k steps"
   ]
  },
  {
   "cell_type": "code",
   "execution_count": 2,
   "id": "95ab1b20",
   "metadata": {},
   "outputs": [
    {
     "name": "stdout",
     "output_type": "stream",
     "text": [
      "[5, 6, 7, 1, 2, 3, 4]\n"
     ]
    }
   ],
   "source": [
    "# this helper function will be used by the rotateArray function\n",
    "def helper(arr, i, j):\n",
    "    if i >= j:\n",
    "        return\n",
    "    arr[i], arr[j] = arr[j], arr[i]\n",
    "    return helper(arr, i + 1, j - 1)\n",
    "\n",
    "\n",
    "def rotateArray(arr, n, k):\n",
    "    k = k % n\n",
    "\n",
    "    if k == 0:\n",
    "        return\n",
    "\n",
    "    helper(arr, 0, n - 1)\n",
    "    helper(arr, 0, k - 1)\n",
    "    helper(arr, k, n - 1)\n",
    "    return\n",
    "\n",
    "\n",
    "# driver code\n",
    "k = 3\n",
    "arr = [1, 2, 3, 4, 5, 6, 7]\n",
    "rotateArray(arr, len(arr), k)\n",
    "print(arr)"
   ]
  },
  {
   "cell_type": "markdown",
   "id": "f162bcef",
   "metadata": {},
   "source": [
    "## Q3. Reverse the given array in-place, means without using any extra data structure"
   ]
  },
  {
   "cell_type": "code",
   "execution_count": 3,
   "id": "cfcbafd8",
   "metadata": {},
   "outputs": [
    {
     "name": "stdout",
     "output_type": "stream",
     "text": [
      "[12, 9, 7, 5, 4, 2]\n"
     ]
    }
   ],
   "source": [
    "def revArr(arr, i, j):\n",
    "    if i >= j:\n",
    "        return\n",
    "    arr[i], arr[j] = arr[j], arr[i]\n",
    "    return revArr(arr, i + 1, j - 1)\n",
    "\n",
    "\n",
    "# driver code\n",
    "arr = [2, 4, 5, 7, 9, 12]\n",
    "revArr(arr, 0, len(arr) - 1)\n",
    "print(arr)"
   ]
  },
  {
   "cell_type": "markdown",
   "id": "cb0f3244",
   "metadata": {},
   "source": [
    "## Q4. Given an array of integers, find the maximum element in an array"
   ]
  },
  {
   "cell_type": "code",
   "execution_count": 4,
   "id": "6c6daf83",
   "metadata": {},
   "outputs": [
    {
     "name": "stdout",
     "output_type": "stream",
     "text": [
      "20\n"
     ]
    }
   ],
   "source": [
    "def findMax(arr):\n",
    "    max_ele = float(\"-inf\")\n",
    "    for i in arr:\n",
    "        if i > max_ele:\n",
    "            max_ele = i\n",
    "\n",
    "    return max_ele\n",
    "\n",
    "\n",
    "# driver code\n",
    "arr = [10, 5, 20, 8, 15]\n",
    "print(findMax(arr))"
   ]
  },
  {
   "cell_type": "markdown",
   "id": "bde6d08a",
   "metadata": {},
   "source": [
    "## Q5. Given a sorted array, remove the duplicate element without using any extra data structure"
   ]
  },
  {
   "cell_type": "code",
   "execution_count": 5,
   "id": "a2a42480",
   "metadata": {},
   "outputs": [
    {
     "name": "stdout",
     "output_type": "stream",
     "text": [
      "[1, 2, 3, 4, 5]\n"
     ]
    }
   ],
   "source": [
    "def removeDuplicates(arr):\n",
    "    if arr == []:\n",
    "        return\n",
    "    for i in range(len(arr) - 1):\n",
    "        if arr[i] ^ arr[i + 1] != 0:\n",
    "            ans.append(arr[i])\n",
    "    ans.append(arr[-1])\n",
    "\n",
    "\n",
    "# driver code\n",
    "ans = []\n",
    "arr = [1, 1, 2, 2, 2, 3, 3, 4, 4, 4, 5, 5]\n",
    "removeDuplicates(arr)\n",
    "print(ans)"
   ]
  },
  {
   "cell_type": "code",
   "execution_count": null,
   "id": "de2c8773",
   "metadata": {},
   "outputs": [],
   "source": []
  }
 ],
 "metadata": {
  "kernelspec": {
   "display_name": "Python 3 (ipykernel)",
   "language": "python",
   "name": "python3"
  },
  "language_info": {
   "codemirror_mode": {
    "name": "ipython",
    "version": 3
   },
   "file_extension": ".py",
   "mimetype": "text/x-python",
   "name": "python",
   "nbconvert_exporter": "python",
   "pygments_lexer": "ipython3",
   "version": "3.11.4"
  }
 },
 "nbformat": 4,
 "nbformat_minor": 5
}
