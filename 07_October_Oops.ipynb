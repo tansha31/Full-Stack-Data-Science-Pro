{
 "cells": [
  {
   "cell_type": "markdown",
   "metadata": {},
   "source": [
    "## Problem 1: Bank Account"
   ]
  },
  {
   "cell_type": "code",
   "execution_count": 1,
   "metadata": {},
   "outputs": [],
   "source": [
    "class BankAccount:\n",
    "    def __init__(self, acc_number: str, acc_holder_name: str, balance: float = 5000) -> None:\n",
    "        self.acc_number = acc_number\n",
    "        self.acc_holder_name = acc_holder_name\n",
    "        self.balance = balance\n",
    "\n",
    "    def check_balance(self) -> float:\n",
    "        return self.balance\n",
    "\n",
    "    def deposit(self, amount: float) -> str:\n",
    "        self.balance += amount\n",
    "        return f'Amount Deposited Successfully, Available Balance: {self.balance}'\n",
    "    \n",
    "    def withdraw(self, amount: float) -> str:\n",
    "        if amount > self.balance:\n",
    "            return 'Insufficent Balance'\n",
    "        else:\n",
    "            self.balance -= amount\n",
    "            return f'Amount Withdrawn Successfully, Avaiable Balance: {self.balance}'"
   ]
  },
  {
   "cell_type": "code",
   "execution_count": 2,
   "metadata": {},
   "outputs": [],
   "source": [
    "acc1 = BankAccount(acc_number='A001', acc_holder_name='Tanmay Sharma', balance=25000)"
   ]
  },
  {
   "cell_type": "code",
   "execution_count": 3,
   "metadata": {},
   "outputs": [
    {
     "data": {
      "text/plain": [
       "'Amount Withdrawn Successfully, Avaiable Balance: 18000'"
      ]
     },
     "execution_count": 3,
     "metadata": {},
     "output_type": "execute_result"
    }
   ],
   "source": [
    "acc1.withdraw(7000)"
   ]
  },
  {
   "cell_type": "code",
   "execution_count": 4,
   "metadata": {},
   "outputs": [
    {
     "data": {
      "text/plain": [
       "'Amount Deposited Successfully, Available Balance: 22000'"
      ]
     },
     "execution_count": 4,
     "metadata": {},
     "output_type": "execute_result"
    }
   ],
   "source": [
    "acc1.deposit(4000)"
   ]
  },
  {
   "cell_type": "code",
   "execution_count": 5,
   "metadata": {},
   "outputs": [
    {
     "data": {
      "text/plain": [
       "'Insufficent Balance'"
      ]
     },
     "execution_count": 5,
     "metadata": {},
     "output_type": "execute_result"
    }
   ],
   "source": [
    "acc1.withdraw(30000)"
   ]
  },
  {
   "cell_type": "code",
   "execution_count": 6,
   "metadata": {},
   "outputs": [
    {
     "data": {
      "text/plain": [
       "22000"
      ]
     },
     "execution_count": 6,
     "metadata": {},
     "output_type": "execute_result"
    }
   ],
   "source": [
    "acc1.check_balance()"
   ]
  },
  {
   "cell_type": "markdown",
   "metadata": {},
   "source": [
    "## Problem 2: Employee Management"
   ]
  },
  {
   "cell_type": "code",
   "execution_count": 7,
   "metadata": {},
   "outputs": [],
   "source": [
    "class Employee:\n",
    "    def __init__(self, emp_id: str, emp_name: str, salary: float = 25000) -> None:\n",
    "        self.emp_id = emp_id\n",
    "        self.emp_name = emp_name\n",
    "        self.salary = salary\n",
    "\n",
    "    def calculate_yearly_bonus(self) -> float:\n",
    "        # yearly bonus is 10% of the employee salary\n",
    "        yearly_bonus = 0.1 * self.salary\n",
    "        return yearly_bonus\n",
    "    \n",
    "    def employee_details(self) -> str:\n",
    "        return f'Employee Id: {self.emp_id}\\nEmployee Name: {self.emp_name}\\nEmployee Salary: {self.salary}'"
   ]
  },
  {
   "cell_type": "code",
   "execution_count": 8,
   "metadata": {},
   "outputs": [],
   "source": [
    "tanmay = Employee(emp_id='E105', emp_name='Tanmay Sharma', salary=125000)"
   ]
  },
  {
   "cell_type": "code",
   "execution_count": 9,
   "metadata": {},
   "outputs": [
    {
     "name": "stdout",
     "output_type": "stream",
     "text": [
      "Yearly Bonus: 12500.0\n"
     ]
    }
   ],
   "source": [
    "print('Yearly Bonus:', tanmay.calculate_yearly_bonus())"
   ]
  },
  {
   "cell_type": "code",
   "execution_count": 10,
   "metadata": {},
   "outputs": [
    {
     "name": "stdout",
     "output_type": "stream",
     "text": [
      "Employee Id: E105\n",
      "Employee Name: Tanmay Sharma\n",
      "Employee Salary: 125000\n"
     ]
    }
   ],
   "source": [
    "print(tanmay.employee_details())"
   ]
  },
  {
   "cell_type": "markdown",
   "metadata": {},
   "source": [
    "## Problem 3: Vehicle Rental"
   ]
  },
  {
   "cell_type": "code",
   "execution_count": 11,
   "metadata": {},
   "outputs": [],
   "source": [
    "class VehicleRental:\n",
    "    def __init__(self, vehicle_list: dict) -> None:\n",
    "        # vehicle list accepts a dictionary containing\n",
    "        # name and available number along with its rental cost\n",
    "        self.vehicle_list = vehicle_list\n",
    "\n",
    "    def show_available_vehicles(self) -> None:\n",
    "        print('---- Available Vehicles ----')\n",
    "        for vehicle in self.vehicle_list:\n",
    "            print(f'{vehicle} -> Qty: {self.vehicle_list[vehicle][0]}, Rent: {self.vehicle_list[vehicle][1]}')\n",
    "\n",
    "    def rent_vehicle(self, vehicle: str, days: int) -> None:\n",
    "        # Check if vehicle exists and qty > 0\n",
    "        if vehicle in self.vehicle_list and self.vehicle_list[vehicle][0] > 0:\n",
    "            self.vehicle_list[vehicle][0] -= 1\n",
    "            rental_cost = self.vehicle_list[vehicle][1] * days\n",
    "            print('Vehicle Rent Successful!')\n",
    "            print(f'Total Rental Cost: {rental_cost}')\n",
    "\n",
    "        else:\n",
    "            print('Vehicle not available!')\n",
    "\n",
    "    def return_vehicle(self, vehicle: str) -> None:\n",
    "        if vehicle in self.vehicle_list:\n",
    "            self.vehicle_list[vehicle][0] += 1\n",
    "            print('Vehicle returned Successfully!')\n",
    "            \n",
    "        else:\n",
    "            print('Sorry this Vehicle was not rented from this rental service')\n",
    "        "
   ]
  },
  {
   "cell_type": "code",
   "execution_count": 12,
   "metadata": {},
   "outputs": [],
   "source": [
    "rental = VehicleRental(vehicle_list={\n",
    "    'Honda Amaze': [2, 5000],\n",
    "    'Maruti Swift Dezire': [3, 4000],\n",
    "    'Toyota Etios': [5, 4500],\n",
    "    'Hyundai Verna': [1, 6000],\n",
    "    'Tata Tiago': [2, 4750]\n",
    "})"
   ]
  },
  {
   "cell_type": "code",
   "execution_count": 13,
   "metadata": {},
   "outputs": [
    {
     "name": "stdout",
     "output_type": "stream",
     "text": [
      "---- Available Vehicles ----\n",
      "Honda Amaze -> Qty: 2, Rent: 5000\n",
      "Maruti Swift Dezire -> Qty: 3, Rent: 4000\n",
      "Toyota Etios -> Qty: 5, Rent: 4500\n",
      "Hyundai Verna -> Qty: 1, Rent: 6000\n",
      "Tata Tiago -> Qty: 2, Rent: 4750\n"
     ]
    }
   ],
   "source": [
    "rental.show_available_vehicles()"
   ]
  },
  {
   "cell_type": "code",
   "execution_count": 14,
   "metadata": {},
   "outputs": [
    {
     "name": "stdout",
     "output_type": "stream",
     "text": [
      "Vehicle Rent Successful!\n",
      "Total Rental Cost: 15000\n"
     ]
    }
   ],
   "source": [
    "rental.rent_vehicle(vehicle='Honda Amaze', days=3)"
   ]
  },
  {
   "cell_type": "code",
   "execution_count": 15,
   "metadata": {},
   "outputs": [
    {
     "name": "stdout",
     "output_type": "stream",
     "text": [
      "Vehicle Rent Successful!\n",
      "Total Rental Cost: 30000\n"
     ]
    }
   ],
   "source": [
    "rental.rent_vehicle(vehicle='Hyundai Verna', days=5)"
   ]
  },
  {
   "cell_type": "code",
   "execution_count": 16,
   "metadata": {},
   "outputs": [
    {
     "name": "stdout",
     "output_type": "stream",
     "text": [
      "Sorry this Vehicle was not rented from this rental service\n"
     ]
    }
   ],
   "source": [
    "rental.return_vehicle(vehicle='Honda City')"
   ]
  },
  {
   "cell_type": "code",
   "execution_count": 17,
   "metadata": {},
   "outputs": [
    {
     "name": "stdout",
     "output_type": "stream",
     "text": [
      "Vehicle not available!\n"
     ]
    }
   ],
   "source": [
    "rental.rent_vehicle(vehicle='Hyundai Verna', days=1)"
   ]
  },
  {
   "cell_type": "code",
   "execution_count": 18,
   "metadata": {},
   "outputs": [
    {
     "name": "stdout",
     "output_type": "stream",
     "text": [
      "---- Available Vehicles ----\n",
      "Honda Amaze -> Qty: 1, Rent: 5000\n",
      "Maruti Swift Dezire -> Qty: 3, Rent: 4000\n",
      "Toyota Etios -> Qty: 5, Rent: 4500\n",
      "Hyundai Verna -> Qty: 0, Rent: 6000\n",
      "Tata Tiago -> Qty: 2, Rent: 4750\n"
     ]
    }
   ],
   "source": [
    "rental.show_available_vehicles()"
   ]
  },
  {
   "cell_type": "markdown",
   "metadata": {},
   "source": [
    "## Problem 4: Library Catalogue"
   ]
  },
  {
   "cell_type": "code",
   "execution_count": 19,
   "metadata": {},
   "outputs": [],
   "source": [
    "class Library:\n",
    "    def __init__(self, books: dict) -> None:\n",
    "        self.books = books\n",
    "\n",
    "    def add_book(self, book: str, qty: int) -> None:\n",
    "        self.books[book] = qty\n",
    "        print(f'{book} has been added to the library')\n",
    "\n",
    "    def borrow_book(self, book: str) -> None:\n",
    "        # Check if the book exists and qty > 0\n",
    "        if book in self.books and self.books[book] > 0:\n",
    "            print(f'{book} is available. Thank you for issuing the book.')\n",
    "            self.books[book] -= 1\n",
    "        else:\n",
    "            print(f'Sorry, {book} is not available.')\n",
    "\n",
    "    def show_books(self) -> None:\n",
    "        print('---- Available Books ----')\n",
    "        for book in self.books:\n",
    "            print(f'{book}: {self.books[book]}')"
   ]
  },
  {
   "cell_type": "code",
   "execution_count": 20,
   "metadata": {},
   "outputs": [],
   "source": [
    "library_catalogue = Library(books={\n",
    "    \"To Kill a Mockingbird\": 10,\n",
    "    \"1984\": 8,\n",
    "    \"Pride and Prejudice\": 7,\n",
    "    \"The Great Gatsby\": 6,\n",
    "    \"Harry Potter and the Sorcerer's Stone\": 15,\n",
    "    \"The Lord of the Rings\": 12,\n",
    "    \"The Catcher in the Rye\": 9,\n",
    "    \"The Hobbit\": 10,\n",
    "    \"Fahrenheit 451\": 7,\n",
    "    \"Brave New World\": 6\n",
    "})"
   ]
  },
  {
   "cell_type": "code",
   "execution_count": 21,
   "metadata": {},
   "outputs": [
    {
     "name": "stdout",
     "output_type": "stream",
     "text": [
      "Rich Dad Poor Dad has been added to the library\n"
     ]
    }
   ],
   "source": [
    "library_catalogue.add_book(book=\"Rich Dad Poor Dad\", qty=3)"
   ]
  },
  {
   "cell_type": "code",
   "execution_count": 22,
   "metadata": {},
   "outputs": [
    {
     "name": "stdout",
     "output_type": "stream",
     "text": [
      "Harry Potter and the Sorcerer's Stone is available. Thank you for issuing the book.\n"
     ]
    }
   ],
   "source": [
    "library_catalogue.borrow_book(book=\"Harry Potter and the Sorcerer's Stone\")"
   ]
  },
  {
   "cell_type": "code",
   "execution_count": 23,
   "metadata": {},
   "outputs": [
    {
     "name": "stdout",
     "output_type": "stream",
     "text": [
      "Sorry, James Bond is not available.\n"
     ]
    }
   ],
   "source": [
    "library_catalogue.borrow_book(book=\"James Bond\")"
   ]
  },
  {
   "cell_type": "code",
   "execution_count": 24,
   "metadata": {},
   "outputs": [
    {
     "name": "stdout",
     "output_type": "stream",
     "text": [
      "---- Available Books ----\n",
      "To Kill a Mockingbird: 10\n",
      "1984: 8\n",
      "Pride and Prejudice: 7\n",
      "The Great Gatsby: 6\n",
      "Harry Potter and the Sorcerer's Stone: 14\n",
      "The Lord of the Rings: 12\n",
      "The Catcher in the Rye: 9\n",
      "The Hobbit: 10\n",
      "Fahrenheit 451: 7\n",
      "Brave New World: 6\n",
      "Rich Dad Poor Dad: 3\n"
     ]
    }
   ],
   "source": [
    "library_catalogue.show_books()"
   ]
  },
  {
   "cell_type": "markdown",
   "metadata": {},
   "source": [
    "## Problem 5: Product Inventory"
   ]
  },
  {
   "cell_type": "code",
   "execution_count": 25,
   "metadata": {},
   "outputs": [],
   "source": [
    "class Products:\n",
    "    def __init__(self, products: dict[dict]) -> None:\n",
    "        self.products = products\n",
    "\n",
    "    def add_product(self, product_id: int, name: str, price: float, quantity: int) -> None:\n",
    "        # Check if the product already exists\n",
    "        if product_id in self.products:\n",
    "            print(f\"Product with ID {product_id} already exists. Use update_product_quantity to change quantity.\")\n",
    "        else:\n",
    "            self.products[product_id] = {\"name\": name, \"price\": price, \"quantity\": quantity}\n",
    "            print(f\"Added product with ID {product_id}: {name}\")\n",
    "\n",
    "    def update_product_quantity(self, product_id: int, new_quantity: int) -> None:\n",
    "        # Check if the product exists\n",
    "        if product_id in self.products:\n",
    "            self.products[product_id][\"quantity\"] = new_quantity\n",
    "            print(f\"Updated quantity for product with ID {product_id} to {new_quantity}.\")\n",
    "        else:\n",
    "            print(f\"Product with ID {product_id} does not exist.\")\n",
    "\n",
    "    def show_available_products(self) -> None:\n",
    "        print(\"---- Available Products ----\")\n",
    "        for product_id, product_info in self.products.items():\n",
    "            print(f\"Product ID: {product_id}\")\n",
    "            print(f\"Name: {product_info['name']}\")\n",
    "            print(f\"Price: Rs.{product_info['price']}\")\n",
    "            print(f\"Quantity: {product_info['quantity']}\")\n",
    "            print()"
   ]
  },
  {
   "cell_type": "code",
   "execution_count": 26,
   "metadata": {},
   "outputs": [],
   "source": [
    "product_inventory = Products(products={\n",
    "    1: {\"name\": \"Laptop\", \"price\": 74990, \"quantity\": 10},\n",
    "    2: {\"name\": \"Phone\", \"price\": 49990, \"quantity\": 20}\n",
    "})"
   ]
  },
  {
   "cell_type": "code",
   "execution_count": 27,
   "metadata": {},
   "outputs": [
    {
     "name": "stdout",
     "output_type": "stream",
     "text": [
      "Added product with ID 3: Tablet\n"
     ]
    }
   ],
   "source": [
    "product_inventory.add_product(product_id=3, name=\"Tablet\", price=14490, quantity=8)"
   ]
  },
  {
   "cell_type": "code",
   "execution_count": 28,
   "metadata": {},
   "outputs": [
    {
     "name": "stdout",
     "output_type": "stream",
     "text": [
      "Updated quantity for product with ID 1 to 12.\n"
     ]
    }
   ],
   "source": [
    "product_inventory.update_product_quantity(1, 12)"
   ]
  },
  {
   "cell_type": "code",
   "execution_count": 29,
   "metadata": {},
   "outputs": [
    {
     "name": "stdout",
     "output_type": "stream",
     "text": [
      "---- Available Products ----\n",
      "Product ID: 1\n",
      "Name: Laptop\n",
      "Price: Rs.74990\n",
      "Quantity: 12\n",
      "\n",
      "Product ID: 2\n",
      "Name: Phone\n",
      "Price: Rs.49990\n",
      "Quantity: 20\n",
      "\n",
      "Product ID: 3\n",
      "Name: Tablet\n",
      "Price: Rs.14490\n",
      "Quantity: 8\n",
      "\n"
     ]
    }
   ],
   "source": [
    "product_inventory.show_available_products()"
   ]
  },
  {
   "cell_type": "markdown",
   "metadata": {},
   "source": [
    "## Problem 6: Shape Calculation"
   ]
  },
  {
   "cell_type": "code",
   "execution_count": 30,
   "metadata": {},
   "outputs": [],
   "source": [
    "class Shape:\n",
    "    def __init__(self, shape: str, *dimensions: list) -> None:\n",
    "        self.shape = shape\n",
    "        self.dimensions = dimensions\n",
    "\n",
    "    def area(self) -> float:\n",
    "        if self.shape == \"Cube\":\n",
    "            side = self.dimensions[0]\n",
    "            return 6 * (side ** 2)\n",
    "        \n",
    "        elif self.shape == \"Cuboid\":\n",
    "            l, b, h = self.dimensions\n",
    "            return 2 * (l*b + b*h + h*l)\n",
    "        \n",
    "    def perimeter(self) -> float:\n",
    "       if self.shape == \"Cube\":\n",
    "           side = self.dimensions[0]\n",
    "           return 12 * side\n",
    "       \n",
    "       elif self.shape == \"Cuboid\":\n",
    "           l, b, h = self.dimensions\n",
    "           return 4 * (l + b + h)\n",
    "        "
   ]
  },
  {
   "cell_type": "code",
   "execution_count": 31,
   "metadata": {},
   "outputs": [
    {
     "name": "stdout",
     "output_type": "stream",
     "text": [
      "216\n",
      "72\n"
     ]
    }
   ],
   "source": [
    "cube = Shape(\"Cube\", 6, 6, 6)\n",
    "print(cube.area())\n",
    "print(cube.perimeter())"
   ]
  },
  {
   "cell_type": "code",
   "execution_count": 32,
   "metadata": {},
   "outputs": [
    {
     "name": "stdout",
     "output_type": "stream",
     "text": [
      "392\n",
      "100\n"
     ]
    }
   ],
   "source": [
    "cuboid = Shape(\"Cuboid\", 12, 8, 5)\n",
    "print(cuboid.area())\n",
    "print(cuboid.perimeter())"
   ]
  },
  {
   "cell_type": "markdown",
   "metadata": {},
   "source": [
    "## Problem 7: Student Management"
   ]
  },
  {
   "cell_type": "code",
   "execution_count": 33,
   "metadata": {},
   "outputs": [],
   "source": [
    "class Student:\n",
    "    def __init__(self, std_id: int, std_name: str, **marks: dict) -> None:\n",
    "        self.std_id = std_id\n",
    "        self.std_name = std_name\n",
    "        self.marks = marks\n",
    "\n",
    "    def average_marks(self) -> float:\n",
    "        marks = 0\n",
    "        for subject in self.marks:\n",
    "            marks += self.marks[subject]\n",
    "        return marks / len(self.marks)\n",
    "    \n",
    "    def student_details(self) -> None:\n",
    "        print(f'Student Id: {self.std_id}')\n",
    "        print(f'Student Name: {self.std_name}')\n",
    "        print('\\n---- Marks ----\\n')\n",
    "        for subject in self.marks:\n",
    "            print(f'{subject}: {self.marks[subject]}')"
   ]
  },
  {
   "cell_type": "code",
   "execution_count": 34,
   "metadata": {},
   "outputs": [],
   "source": [
    "tanmay = Student(1, 'Tanmay Sharma', Physics=89, Chemistry=95, Maths=93, Computer=99, English=86)"
   ]
  },
  {
   "cell_type": "code",
   "execution_count": 35,
   "metadata": {},
   "outputs": [
    {
     "name": "stdout",
     "output_type": "stream",
     "text": [
      "Percentage/Averaga Marks: 92.4%\n"
     ]
    }
   ],
   "source": [
    "print(f'Percentage/Averaga Marks: {tanmay.average_marks()}%')"
   ]
  },
  {
   "cell_type": "code",
   "execution_count": 36,
   "metadata": {},
   "outputs": [
    {
     "name": "stdout",
     "output_type": "stream",
     "text": [
      "Student Id: 1\n",
      "Student Name: Tanmay Sharma\n",
      "\n",
      "---- Marks ----\n",
      "\n",
      "Physics: 89\n",
      "Chemistry: 95\n",
      "Maths: 93\n",
      "Computer: 99\n",
      "English: 86\n"
     ]
    }
   ],
   "source": [
    "tanmay.student_details()"
   ]
  },
  {
   "cell_type": "markdown",
   "metadata": {},
   "source": [
    "## Problem 8: Email Management"
   ]
  },
  {
   "cell_type": "code",
   "execution_count": 37,
   "metadata": {},
   "outputs": [],
   "source": [
    "class EmailManagement:\n",
    "    def __init__(self, sender: str, receiver: str) -> None:\n",
    "        self.sender = sender\n",
    "        self.receiver = receiver\n",
    "        self.subject = ''\n",
    "        self.content = ''\n",
    "\n",
    "    def send_email(self, subject: str, content: str) -> None:\n",
    "        self.subject = subject\n",
    "        self.content = content\n",
    "        print(f'Email (Subject: {self.subject}) has been sent successfully to {self.receiver}')\n",
    "\n",
    "    def display_email(self) -> None:\n",
    "        print('---- Email Draft ----')\n",
    "        print(f'Sender: {self.sender}')\n",
    "        print(f'Receiver: {self.receiver}')\n",
    "        print(f'Subject: {self.subject}')\n",
    "        print(f'Content: {self.content}')\n",
    "        "
   ]
  },
  {
   "cell_type": "code",
   "execution_count": 38,
   "metadata": {},
   "outputs": [],
   "source": [
    "email = EmailManagement(sender=\"tanmay123@gmail.com\", receiver=\"akshat2001@gmail.com\")"
   ]
  },
  {
   "cell_type": "code",
   "execution_count": 39,
   "metadata": {},
   "outputs": [
    {
     "name": "stdout",
     "output_type": "stream",
     "text": [
      "Email (Subject: Request for Leave) has been sent successfully to akshat2001@gmail.com\n"
     ]
    }
   ],
   "source": [
    "email.send_email(subject=\"Request for Leave\", content=\"I am writing this email to request for one day leave as I am not well.\")"
   ]
  },
  {
   "cell_type": "code",
   "execution_count": 40,
   "metadata": {},
   "outputs": [
    {
     "name": "stdout",
     "output_type": "stream",
     "text": [
      "---- Email Draft ----\n",
      "Sender: tanmay123@gmail.com\n",
      "Receiver: akshat2001@gmail.com\n",
      "Subject: Request for Leave\n",
      "Content: I am writing this email to request for one day leave as I am not well.\n"
     ]
    }
   ],
   "source": [
    "email.display_email()"
   ]
  },
  {
   "cell_type": "markdown",
   "metadata": {},
   "source": [
    "## Problem 9: Social Media Profile"
   ]
  },
  {
   "cell_type": "code",
   "execution_count": 41,
   "metadata": {},
   "outputs": [],
   "source": [
    "class SocialMediaProfile:\n",
    "    def __init__(self, username: str) -> None:\n",
    "        self.username = username\n",
    "        self.posts = []\n",
    "\n",
    "    def add_post(self, post: str) -> None:\n",
    "        if post:\n",
    "            self.posts.append(post) if len(post) < 256 else print('Post should not exceed 255 characters.')\n",
    "        else:\n",
    "            print('Post cannot be left blank.')\n",
    "    \n",
    "    def display_posts(self) -> None:\n",
    "        if self.posts:\n",
    "            print(f'Username: {self.username}\\n')\n",
    "            for index, post in enumerate(self.posts):\n",
    "                print(f'Post {index+1}: {post}')\n",
    "\n",
    "        else:\n",
    "            print('Nothing to display.')\n",
    "\n",
    "    def search_posts(self, keyword: str) -> None:\n",
    "        found = False\n",
    "\n",
    "        if self.posts:\n",
    "            for index, post in enumerate(self.posts):\n",
    "                if keyword.lower() in post.lower():\n",
    "                    print(f'Post {index+1}: {post}')\n",
    "                    found = True\n",
    "            if not found:\n",
    "                print('No posts found!')\n",
    "                \n",
    "        else:\n",
    "            print('This user hasn\\'t posted anything yet!')\n",
    "        \n",
    "\n"
   ]
  },
  {
   "cell_type": "code",
   "execution_count": 42,
   "metadata": {},
   "outputs": [],
   "source": [
    "tanmay = SocialMediaProfile(username='tanmaysh123')"
   ]
  },
  {
   "cell_type": "code",
   "execution_count": 43,
   "metadata": {},
   "outputs": [],
   "source": [
    "tanmay.add_post('US president\\'s visit to Jordon Cancelled.')\n",
    "tanmay.add_post('Isael-Hamas War Update: Israel kills 500 in Gaza Hospital Massacre.')\n",
    "tanmay.add_post('Israel Palestine War Day 12 Live Updates: Embassies in Lebanon, Iraq on fire in protest of Israeli strike on Gaza hospital that killed about 500.')"
   ]
  },
  {
   "cell_type": "code",
   "execution_count": 44,
   "metadata": {},
   "outputs": [
    {
     "name": "stdout",
     "output_type": "stream",
     "text": [
      "Username: tanmaysh123\n",
      "\n",
      "Post 1: US president's visit to Jordon Cancelled.\n",
      "Post 2: Isael-Hamas War Update: Israel kills 500 in Gaza Hospital Massacre.\n",
      "Post 3: Israel Palestine War Day 12 Live Updates: Embassies in Lebanon, Iraq on fire in protest of Israeli strike on Gaza hospital that killed about 500.\n"
     ]
    }
   ],
   "source": [
    "tanmay.display_posts()"
   ]
  },
  {
   "cell_type": "code",
   "execution_count": 45,
   "metadata": {},
   "outputs": [
    {
     "name": "stdout",
     "output_type": "stream",
     "text": [
      "Post 2: Isael-Hamas War Update: Israel kills 500 in Gaza Hospital Massacre.\n",
      "Post 3: Israel Palestine War Day 12 Live Updates: Embassies in Lebanon, Iraq on fire in protest of Israeli strike on Gaza hospital that killed about 500.\n"
     ]
    }
   ],
   "source": [
    "tanmay.search_posts(keyword='War')"
   ]
  },
  {
   "cell_type": "code",
   "execution_count": 46,
   "metadata": {},
   "outputs": [
    {
     "name": "stdout",
     "output_type": "stream",
     "text": [
      "No posts found!\n"
     ]
    }
   ],
   "source": [
    "tanmay.search_posts(keyword='India')"
   ]
  },
  {
   "cell_type": "markdown",
   "metadata": {},
   "source": [
    "## Problem 10: To-do List"
   ]
  },
  {
   "cell_type": "code",
   "execution_count": 47,
   "metadata": {},
   "outputs": [],
   "source": [
    "class ToDoList:\n",
    "    def __init__(self) -> None:\n",
    "        self.tasks = dict()\n",
    "\n",
    "    def add_task(self, id: int, task: str, due_date: str) -> None:\n",
    "        if id not in self.tasks:\n",
    "            self.tasks[id] = {\n",
    "                'task': task,\n",
    "                'due_date': due_date,\n",
    "                'completed': False\n",
    "            }\n",
    "        else:\n",
    "            print(f'Task with id: {id} already exists.')\n",
    "    \n",
    "    def mark_as_complete(self, id: int) -> None:\n",
    "        if id in self.tasks:\n",
    "            if not self.tasks[id]['completed']:\n",
    "                self.tasks[id]['completed'] = True\n",
    "                print(f'Task: {self.tasks[id][\"task\"]}, has been marked as complete.')\n",
    "            else:\n",
    "                print(f'Task with id: {id} is already marked complete.')\n",
    "        else:\n",
    "            print(f'Task with id: {id} does not exist.')\n",
    "\n",
    "    def show_pending_tasks(self) -> None:\n",
    "        if self.tasks:\n",
    "            found = False\n",
    "            for id in self.tasks:\n",
    "                if not self.tasks[id]['completed']:\n",
    "                    found = True\n",
    "                    print(f'Id: {id}')\n",
    "                    print(f'Task: {self.tasks[id][\"task\"]}')\n",
    "                    print(f'Due Date: {self.tasks[id][\"due_date\"]}')\n",
    "                    print(f'Completed: {self.tasks[id][\"completed\"]}')\n",
    "                    print()\n",
    "            if not found:\n",
    "                print('No pending tasks found.')\n",
    "        else:\n",
    "            print('Please add some tasks first.')"
   ]
  },
  {
   "cell_type": "code",
   "execution_count": 48,
   "metadata": {},
   "outputs": [],
   "source": [
    "imp = ToDoList()"
   ]
  },
  {
   "cell_type": "code",
   "execution_count": 49,
   "metadata": {},
   "outputs": [],
   "source": [
    "imp.add_task(id=1, task=\"Deposit Fees\", due_date=\"23 Oct, 2023\")\n",
    "imp.add_task(id=2, task=\"Renew Insurance\", due_date=\"5 Nov, 2023\")\n",
    "imp.add_task(id=3, task=\"Book flight tickets\", due_date=\"8 Nov, 2023\")"
   ]
  },
  {
   "cell_type": "code",
   "execution_count": 50,
   "metadata": {},
   "outputs": [
    {
     "name": "stdout",
     "output_type": "stream",
     "text": [
      "Id: 1\n",
      "Task: Deposit Fees\n",
      "Due Date: 23 Oct, 2023\n",
      "Completed: False\n",
      "\n",
      "Id: 2\n",
      "Task: Renew Insurance\n",
      "Due Date: 5 Nov, 2023\n",
      "Completed: False\n",
      "\n",
      "Id: 3\n",
      "Task: Book flight tickets\n",
      "Due Date: 8 Nov, 2023\n",
      "Completed: False\n",
      "\n"
     ]
    }
   ],
   "source": [
    "imp.show_pending_tasks()"
   ]
  },
  {
   "cell_type": "code",
   "execution_count": 51,
   "metadata": {},
   "outputs": [
    {
     "name": "stdout",
     "output_type": "stream",
     "text": [
      "Task: Renew Insurance, has been marked as complete.\n"
     ]
    }
   ],
   "source": [
    "imp.mark_as_complete(id=2)"
   ]
  },
  {
   "cell_type": "code",
   "execution_count": 52,
   "metadata": {},
   "outputs": [
    {
     "name": "stdout",
     "output_type": "stream",
     "text": [
      "Task: Book flight tickets, has been marked as complete.\n"
     ]
    }
   ],
   "source": [
    "imp.mark_as_complete(id=3)"
   ]
  },
  {
   "cell_type": "code",
   "execution_count": 53,
   "metadata": {},
   "outputs": [
    {
     "name": "stdout",
     "output_type": "stream",
     "text": [
      "Id: 1\n",
      "Task: Deposit Fees\n",
      "Due Date: 23 Oct, 2023\n",
      "Completed: False\n",
      "\n"
     ]
    }
   ],
   "source": [
    "imp.show_pending_tasks()"
   ]
  },
  {
   "cell_type": "code",
   "execution_count": null,
   "metadata": {},
   "outputs": [],
   "source": []
  }
 ],
 "metadata": {
  "kernelspec": {
   "display_name": "base",
   "language": "python",
   "name": "python3"
  },
  "language_info": {
   "codemirror_mode": {
    "name": "ipython",
    "version": 3
   },
   "file_extension": ".py",
   "mimetype": "text/x-python",
   "name": "python",
   "nbconvert_exporter": "python",
   "pygments_lexer": "ipython3",
   "version": "3.11.4"
  }
 },
 "nbformat": 4,
 "nbformat_minor": 2
}
