{
 "cells": [
  {
   "cell_type": "markdown",
   "id": "c9a3e36e",
   "metadata": {},
   "source": [
    "## Python Basics Variable"
   ]
  },
  {
   "cell_type": "markdown",
   "id": "1ca73960",
   "metadata": {},
   "source": [
    "### Q1. Declare two variables, `x` and `y`, and assign them integer values. Swap the values of these variables without using any temporary variable."
   ]
  },
  {
   "cell_type": "code",
   "execution_count": 1,
   "id": "20bf5433",
   "metadata": {},
   "outputs": [
    {
     "name": "stdout",
     "output_type": "stream",
     "text": [
      "5 10\n"
     ]
    }
   ],
   "source": [
    "x = 5\n",
    "y = 10\n",
    "\n",
    "print(x, y)"
   ]
  },
  {
   "cell_type": "code",
   "execution_count": 2,
   "id": "6540484e",
   "metadata": {},
   "outputs": [
    {
     "name": "stdout",
     "output_type": "stream",
     "text": [
      "10 5\n"
     ]
    }
   ],
   "source": [
    "x = x + y\n",
    "y = x - y\n",
    "x = x - y\n",
    "\n",
    "print(x, y)"
   ]
  },
  {
   "cell_type": "markdown",
   "id": "38b33d35",
   "metadata": {},
   "source": [
    "### Q2. Create a program that calculates the area of a rectangle. Take the length and width as inputs from the user and store them in variables. Calculate and display the area."
   ]
  },
  {
   "cell_type": "code",
   "execution_count": 3,
   "id": "52057b77",
   "metadata": {},
   "outputs": [
    {
     "name": "stdout",
     "output_type": "stream",
     "text": [
      "Enter Length of the Rectangle: 9\n",
      "Enter Width of the Rectangle: 14\n",
      "Area of the Rectangle:  126\n"
     ]
    }
   ],
   "source": [
    "l = int(input('Enter Length of the Rectangle: '))\n",
    "b = int(input('Enter Width of the Rectangle: '))\n",
    "\n",
    "area = l * b\n",
    "\n",
    "print('Area of the Rectangle: ', area)"
   ]
  },
  {
   "cell_type": "markdown",
   "id": "78d418ef",
   "metadata": {},
   "source": [
    "### Q3. Write a Python program that converts temperatures from Celsius to Fahrenheit. Take the temperature in Celsius as input, store it in a variable, convert it to Fahrenheit, and display the result."
   ]
  },
  {
   "cell_type": "code",
   "execution_count": 4,
   "id": "65c61ea5",
   "metadata": {},
   "outputs": [
    {
     "name": "stdout",
     "output_type": "stream",
     "text": [
      "Enter Temperature in Celcius: 37\n",
      "Temperature in Fahrenheit:  98.6\n"
     ]
    }
   ],
   "source": [
    "temp_celsius = float(input('Enter Temperature in Celcius: '))\n",
    "\n",
    "temp_fahrenheit = round(((9/5) * temp_celsius) + 32, 2)\n",
    "\n",
    "print('Temperature in Fahrenheit: ', temp_fahrenheit)"
   ]
  },
  {
   "cell_type": "markdown",
   "id": "76ac37e9",
   "metadata": {},
   "source": [
    "## String Based Questions"
   ]
  },
  {
   "cell_type": "markdown",
   "id": "e4507351",
   "metadata": {},
   "source": [
    "### Q1. Write a Python program that takes a string as input and prints the length of the string."
   ]
  },
  {
   "cell_type": "code",
   "execution_count": 5,
   "id": "78924e39",
   "metadata": {},
   "outputs": [
    {
     "name": "stdout",
     "output_type": "stream",
     "text": [
      "Enter a string: Tanmay Sharma\n",
      "Length of string:  13\n"
     ]
    }
   ],
   "source": [
    "s = input('Enter a string: ')\n",
    "\n",
    "print('Length of string: ', len(s))"
   ]
  },
  {
   "cell_type": "markdown",
   "id": "7aef34cc",
   "metadata": {},
   "source": [
    "### Q2. Create a program that takes a sentence from the user and counts the number of vowels (a, e, i, o, u) in the string."
   ]
  },
  {
   "cell_type": "code",
   "execution_count": 6,
   "id": "0764dbc1",
   "metadata": {},
   "outputs": [
    {
     "name": "stdout",
     "output_type": "stream",
     "text": [
      "Enter a string: a quick brown fox jumped over a lazy dog\n",
      "Count of a:  3\n",
      "Count of e:  2\n",
      "Count of i:  1\n",
      "Count of o:  4\n",
      "Count of u:  2\n"
     ]
    }
   ],
   "source": [
    "s = input('Enter a string: ')\n",
    "\n",
    "print('Count of a: ', s.count('a'))\n",
    "print('Count of e: ', s.count('e'))\n",
    "print('Count of i: ', s.count('i'))\n",
    "print('Count of o: ', s.count('o'))\n",
    "print('Count of u: ', s.count('u'))"
   ]
  },
  {
   "cell_type": "markdown",
   "id": "c66b873d",
   "metadata": {},
   "source": [
    "### Q3. Given a string, reverse the order of characters using string slicing and print the reversed string."
   ]
  },
  {
   "cell_type": "code",
   "execution_count": 7,
   "id": "cdb5d783",
   "metadata": {},
   "outputs": [
    {
     "name": "stdout",
     "output_type": "stream",
     "text": [
      "Enter a string: python\n",
      "Reverse of string:  nohtyp\n"
     ]
    }
   ],
   "source": [
    "s = input('Enter a string: ')\n",
    "\n",
    "print('Reverse of string: ', s[::-1])"
   ]
  },
  {
   "cell_type": "markdown",
   "id": "438d6595",
   "metadata": {},
   "source": [
    "### Q4. Write a program that takes a string as input and checks if it is a palindrome (reads the same forwards and backwards)."
   ]
  },
  {
   "cell_type": "code",
   "execution_count": 8,
   "id": "e84ee7a5",
   "metadata": {},
   "outputs": [
    {
     "name": "stdout",
     "output_type": "stream",
     "text": [
      "Enter a string: abcdcba\n",
      "Yes it is a palindrome\n"
     ]
    }
   ],
   "source": [
    "s = input('Enter a string: ')\n",
    "\n",
    "if s == s[::-1]:\n",
    "    print('Yes it is a palindrome')\n",
    "else:\n",
    "    print('No it is not a palindrome')"
   ]
  },
  {
   "cell_type": "markdown",
   "id": "ad3bc894",
   "metadata": {},
   "source": [
    "### Q5. Create a program that takes a string as input and removes all the spaces from it. Print the modified string without spaces."
   ]
  },
  {
   "cell_type": "code",
   "execution_count": 9,
   "id": "1fc3bf16",
   "metadata": {},
   "outputs": [
    {
     "name": "stdout",
     "output_type": "stream",
     "text": [
      "Enter a string:    hell o   worl   d\n",
      "helloworld\n"
     ]
    }
   ],
   "source": [
    "s = input('Enter a string: ')\n",
    "\n",
    "s1 = s.replace(' ', '')\n",
    "\n",
    "print(s1)"
   ]
  }
 ],
 "metadata": {
  "kernelspec": {
   "display_name": "Python 3 (ipykernel)",
   "language": "python",
   "name": "python3"
  },
  "language_info": {
   "codemirror_mode": {
    "name": "ipython",
    "version": 3
   },
   "file_extension": ".py",
   "mimetype": "text/x-python",
   "name": "python",
   "nbconvert_exporter": "python",
   "pygments_lexer": "ipython3",
   "version": "3.11.4"
  }
 },
 "nbformat": 4,
 "nbformat_minor": 5
}
